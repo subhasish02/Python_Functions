{
 "cells": [
  {
   "cell_type": "markdown",
   "id": "a843ed1a",
   "metadata": {},
   "source": [
    "# Python"
   ]
  },
  {
   "cell_type": "markdown",
   "id": "1ecca87c",
   "metadata": {},
   "source": [
    "# Practical Questions:"
   ]
  },
  {
   "cell_type": "markdown",
   "id": "40dda3bd",
   "metadata": {},
   "source": [
    "# . Write a Python function that takes a list of numbers as input and returns the sum of all even numbers in the list."
   ]
  },
  {
   "cell_type": "code",
   "execution_count": 3,
   "id": "35cb1341",
   "metadata": {},
   "outputs": [
    {
     "name": "stdout",
     "output_type": "stream",
     "text": [
      "20\n"
     ]
    }
   ],
   "source": [
    "#code\n",
    "def sum_even_numbers(numbers):\n",
    "  \"\"\"Calculates the sum of even numbers in a given list.\n",
    "\n",
    "  Args:\n",
    "    numbers: A list of numbers.\n",
    "\n",
    "  Returns:\n",
    "    The sum of even numbers in the list.\n",
    "  \"\"\"\n",
    "\n",
    "  sum = 0\n",
    "  for num in numbers:\n",
    "    if num % 2 == 0:\n",
    "      sum += num\n",
    "  return sum\n",
    "\n",
    "# Example usage:\n",
    "numbers = [1, 2, 3, 4, 5, 6, 7, 8]\n",
    "result = sum_even_numbers(numbers)\n",
    "print(result)  # Output: 20"
   ]
  },
  {
   "cell_type": "markdown",
   "id": "12d826d3",
   "metadata": {},
   "source": [
    "#  Create a Python function that accepts a string and returns the reverse of that string"
   ]
  },
  {
   "cell_type": "code",
   "execution_count": 4,
   "id": "11899a83",
   "metadata": {},
   "outputs": [
    {
     "name": "stdout",
     "output_type": "stream",
     "text": [
      "dlrow olleh\n"
     ]
    }
   ],
   "source": [
    "#code\n",
    "def reverse_string(string):\n",
    "  \"\"\"Reverses a given string.\n",
    "\n",
    "  Args:\n",
    "    string: The string to be reversed.\n",
    "\n",
    "  Returns:\n",
    "    The reversed string.\n",
    "  \"\"\"\n",
    "\n",
    "  reversed_string = \"\"\n",
    "  for char in string:\n",
    "    reversed_string = char + reversed_string\n",
    "  return reversed_string\n",
    "\n",
    "# Example usage:\n",
    "string = \"hello world\"\n",
    "reversed_string = reverse_string(string)\n",
    "print(reversed_string)  # Output: dlrow olleh"
   ]
  },
  {
   "cell_type": "markdown",
   "id": "dd4415fc",
   "metadata": {},
   "source": [
    "# . Implement a Python function that takes a list of integers and returns a new list containing the squares of each number."
   ]
  },
  {
   "cell_type": "code",
   "execution_count": 5,
   "id": "0895962d",
   "metadata": {},
   "outputs": [
    {
     "name": "stdout",
     "output_type": "stream",
     "text": [
      "[1, 4, 9, 16, 25]\n"
     ]
    }
   ],
   "source": [
    "def square_numbers(numbers):\n",
    "  \"\"\"Squares each number in a given list.\n",
    "\n",
    "  Args:\n",
    "    numbers: A list of numbers.\n",
    "\n",
    "  Returns:\n",
    "    A new list containing the squares of each number.\n",
    "  \"\"\"\n",
    "\n",
    "  squared_numbers = []\n",
    "  for num in numbers:\n",
    "    squared_numbers.append(num ** 2)\n",
    "  return squared_numbers\n",
    "\n",
    "# Example usage:\n",
    "numbers = [1, 2, 3, 4, 5]\n",
    "squared_numbers = square_numbers(numbers)\n",
    "print(squared_numbers)  # Output: [1, 4, 9, 16, 25]"
   ]
  },
  {
   "cell_type": "markdown",
   "id": "575b70a8",
   "metadata": {},
   "source": [
    "# Write a Python function that checks if a given number is prime or not from 1 to 200."
   ]
  },
  {
   "cell_type": "code",
   "execution_count": 6,
   "id": "9bc70dae",
   "metadata": {},
   "outputs": [
    {
     "name": "stdout",
     "output_type": "stream",
     "text": [
      "2 is prime\n",
      "3 is prime\n",
      "5 is prime\n",
      "7 is prime\n",
      "11 is prime\n",
      "13 is prime\n",
      "17 is prime\n",
      "19 is prime\n",
      "23 is prime\n",
      "29 is prime\n",
      "31 is prime\n",
      "37 is prime\n",
      "41 is prime\n",
      "43 is prime\n",
      "47 is prime\n",
      "53 is prime\n",
      "59 is prime\n",
      "61 is prime\n",
      "67 is prime\n",
      "71 is prime\n",
      "73 is prime\n",
      "79 is prime\n",
      "83 is prime\n",
      "89 is prime\n",
      "97 is prime\n",
      "101 is prime\n",
      "103 is prime\n",
      "107 is prime\n",
      "109 is prime\n",
      "113 is prime\n",
      "127 is prime\n",
      "131 is prime\n",
      "137 is prime\n",
      "139 is prime\n",
      "149 is prime\n",
      "151 is prime\n",
      "157 is prime\n",
      "163 is prime\n",
      "167 is prime\n",
      "173 is prime\n",
      "179 is prime\n",
      "181 is prime\n",
      "191 is prime\n",
      "193 is prime\n",
      "197 is prime\n",
      "199 is prime\n"
     ]
    }
   ],
   "source": [
    "#code\n",
    "def is_prime(number):\n",
    "  \"\"\"Checks if a given number is prime.\n",
    "\n",
    "  Args:\n",
    "    number: The number to check.\n",
    "\n",
    "  Returns:\n",
    "    True if the number is prime, False otherwise.\n",
    "  \"\"\"\n",
    "\n",
    "  if number <= 1:\n",
    "    return False\n",
    "  if number <= 3:\n",
    "    return True\n",
    "  if number % 2 == 0 or number % 3 == 0:\n",
    "    return False\n",
    "\n",
    "  i = 5\n",
    "  while i * i <= number:\n",
    "    if number % i == 0 or number % (i + 2) == 0:\n",
    "      return False\n",
    "    i += 6\n",
    "\n",
    "  return True\n",
    "\n",
    "# Example usage:\n",
    "for num in range(1, 201):\n",
    "  if is_prime(num):\n",
    "    print(num, \"is prime\")"
   ]
  },
  {
   "cell_type": "markdown",
   "id": "d1de3f07",
   "metadata": {},
   "source": [
    "# 5. Create an iterator class in Python that generates the Fibonacci sequence up to a specified number of terms.\n",
    "\n"
   ]
  },
  {
   "cell_type": "code",
   "execution_count": 8,
   "id": "bc798126",
   "metadata": {},
   "outputs": [
    {
     "name": "stdout",
     "output_type": "stream",
     "text": [
      "0\n",
      "1\n",
      "1\n",
      "2\n",
      "3\n",
      "5\n",
      "8\n",
      "13\n",
      "21\n",
      "34\n"
     ]
    }
   ],
   "source": [
    "#code\n",
    "class FibonacciIterator:\n",
    "  \"\"\"An iterator for the Fibonacci sequence.\"\"\"\n",
    "\n",
    "  def __init__(self, n):\n",
    "    self.n = n\n",
    "    self.a, self.b = 0, 1\n",
    "    self.count = 0\n",
    "\n",
    "  def __iter__(self):\n",
    "    return self\n",
    "\n",
    "  def __next__(self):\n",
    "    if self.count >= self.n:\n",
    "      raise StopIteration\n",
    "\n",
    "    if self.count == 0:\n",
    "      self.count += 1\n",
    "      return self.a\n",
    "    elif self.count == 1:\n",
    "      self.count += 1\n",
    "      return self.b\n",
    "\n",
    "    self.count += 1\n",
    "    result = self.a + self.b\n",
    "    self.a, self.b = self.b, result\n",
    "    return result\n",
    "\n",
    "# Example usage:\n",
    "n = 10\n",
    "fibonacci_iterator = FibonacciIterator(n)\n",
    "for num in fibonacci_iterator:\n",
    "  print(num)"
   ]
  },
  {
   "cell_type": "markdown",
   "id": "23ba5261",
   "metadata": {},
   "source": [
    "# Write a generator function in Python that yields the powers of 2 up to a given exponent."
   ]
  },
  {
   "cell_type": "code",
   "execution_count": 5,
   "id": "a8685e41",
   "metadata": {},
   "outputs": [
    {
     "name": "stdout",
     "output_type": "stream",
     "text": [
      "1\n",
      "2\n",
      "4\n",
      "8\n",
      "16\n",
      "32\n"
     ]
    }
   ],
   "source": [
    "def powers_of_two(n):\n",
    "    \"\"\"Generator function to yield powers of 2 up to 2^n.\"\"\"\n",
    "    for i in range(n + 1):  # Loop from 0 to n (inclusive)\n",
    "        yield 2 ** i\n",
    "\n",
    "# Example usage\n",
    "n = 5\n",
    "for power in powers_of_two(n):\n",
    "    print(power)\n"
   ]
  },
  {
   "cell_type": "markdown",
   "id": "c9c4822b",
   "metadata": {},
   "source": [
    "# Implement a generator function that reads a file line by line and yields each line as a string."
   ]
  },
  {
   "cell_type": "code",
   "execution_count": 18,
   "id": "e8fb8a3e",
   "metadata": {},
   "outputs": [
    {
     "name": "stdout",
     "output_type": "stream",
     "text": [
      "Food,Nutrition Value (per 100g),Quantity,Originated From,Calories,Protein (g),Fiber (g),Vitamin C (mg),Antioxidant Score\n",
      "Kale,\"High in Vitamins A, C, K\",\"1 cup, chopped\",Ancient Greece,49,4.3,3.6,93.4,1770\n",
      "Blueberries,High in Antioxidants,1 cup,North America,84,1.1,3.6,14.4,9621\n",
      "Salmon,Rich in Omega-3 Fatty Acids,3 oz,North Pacific Ocean,208,22.1,0,0,689\n",
      "Garlic,Contains Allicin,1 clove,Central Asia,4,0.2,0.1,0.9,5708\n",
      "Spinach,High in Iron and Folate,\"1 cup, raw\",Ancient Persia,23,2.9,2.2,28.1,1515\n",
      "Almonds,Good Source of Vitamin E,1 oz (23 nuts),Middle East,164,6,3.5,0,4454\n",
      "Broccoli,High in Vitamin C and K,\"1 cup, chopped\",Italy,31,2.5,2.4,81.2,1510\n",
      "Avocado,Rich in Healthy Fats,1 medium,Central America,320,4,13.5,10,1922\n",
      "Quinoa,Complete Protein Source,\"1 cup, cooked\",South America,222,8.1,5.2,0,1808\n",
      "Lentils,High in Protein and Fiber,\"1 cup, cooked\",Middle East,230,17.9,15.6,2.1,7282\n",
      "Sweet Potato,Rich in Beta-Carotene,1 medium,Central/South America,103,2.3,3.8,22.3,14187\n",
      "Green Tea,High in Catechins,\"1 cup, brewed\",China,2,0.5,0,0,1253\n",
      "Turmeric,Contains Curcumin,\"1 tsp, ground\",India,9,0.3,0.7,0.5,127068\n",
      "Eggs,Complete Protein Source,1 large,Worldwide,72,6.3,0,0,705\n",
      "Chia Seeds,High in Omega-3 and Fiber,1 oz,Central America,138,4.7,10.6,0.1,8983\n",
      "Greek Yogurt,High in Protein and Probiotics,6 oz,Greece,100,17.3,0,0,1050\n",
      "Pomegranate,Rich in Antioxidants,1 medium,Middle East,234,4.7,11.3,28.8,10500\n",
      "Walnuts,Good Source of Omega-3,1 oz (14 halves),Ancient Persia,185,4.3,1.9,0.4,13541\n",
      "Ginger,Anti-inflammatory Properties,\"1 tbsp, grated\",Southeast Asia,4,0.1,0.2,0.7,14840\n",
      "Olive Oil,Rich in Monounsaturated Fats,1 tbsp,Mediterranean Region,119,0,0,0,1150\n",
      "Beets,High in Nitrates,\"1 cup, raw\",Mediterranean Region,58,2.2,3.8,6.7,1776\n",
      "Sardines,Rich in Omega-3 and Vitamin D,\"3.75 oz, canned\",Mediterranean Sea,191,22.7,0,0,1328\n",
      "Mushrooms,Good Source of Selenium,\"1 cup, raw\",Worldwide,15,2.2,1,2.8,692\n",
      "Tomatoes,High in Lycopene,1 medium,South America,22,1.1,1.5,15.6,1595\n",
      "Oats,Rich in Beta-Glucan,\"1 cup, cooked\",Europe,166,5.9,4,0,1606\n",
      "Flaxseeds,High in Lignans,\"1 tbsp, ground\",Middle East,37,1.3,1.9,0.1,8983\n",
      "Brussels Sprouts,High in Vitamin K,\"1 cup, cooked\",Ancient Rome,56,4,4.1,96.7,980\n",
      "Pumpkin Seeds,Rich in Magnesium,1 oz,North America,151,7,1.7,0.5,2500\n",
      "Black Beans,High in Fiber and Protein,\"1 cup, cooked\",South America,227,15.2,15,0,8494\n",
      "Green Peas,Good Source of Vitamin K,\"1 cup, cooked\",Mediterranean Region,134,8.6,8.8,13.7,1754\n",
      "Asparagus,High in Folate,\"1 cup, cooked\",Eastern Mediterranean,27,2.9,2.8,12.3,2021\n",
      "Blackberries,Rich in Antioxidants,1 cup,Worldwide,62,2,7.6,30.2,5905\n",
      "Wild Rice,High in Protein and Fiber,\"1 cup, cooked\",North America,166,6.5,3,0,1506\n",
      "Seaweed,Rich in Iodine,\"1 sheet, nori\",Japan,1,0.1,0.3,0.7,3300\n",
      "Cauliflower,\"Low in Calories, High in Nutrients\",\"1 cup, raw\",Cyprus,25,2,2.5,48.2,1058\n",
      "Coconut Oil,Contains Medium-Chain Triglycerides,1 tbsp,Southeast Asia,121,0,0,0,0\n",
      "Red Bell Peppers,High in Vitamin C,\"1 cup, chopped\",Central/South America,46,1.5,3.1,190,1558\n",
      "Watercress,High in Vitamin K,\"1 cup, chopped\",Europe,4,0.8,0.2,14.6,1785\n",
      "Artichokes,High in Fiber,1 medium,Mediterranean Region,60,4.2,6.9,8.9,9416\n",
      "Cherries,Contains Melatonin,\"1 cup, with pits\",Asia Minor,97,1.6,3.2,10.8,3747\n",
      "Mango,High in Vitamin A,\"1 cup, sliced\",South Asia,99,1.4,2.6,60.1,1300\n",
      "Pistachios,Good Source of Vitamin B6,1 oz (49 kernels),Central Asia,159,5.7,3,0.7,7675\n",
      "Kiwi,High in Vitamin C,1 medium,China,42,0.8,2.1,64,1210\n",
      "Oranges,Rich in Vitamin C,1 medium,Southeast Asia,62,1.2,3.1,69.7,1819\n",
      "Chickpeas,High in Protein and Fiber,\"1 cup, cooked\",Middle East,269,14.5,12.5,2.1,1283\n",
      "Papaya,Contains Papain Enzyme,\"1 cup, cubed\",Central America,62,0.9,2.5,168,1532\n",
      "Cabbage,\"Low in Calories, High in Vitamin K\",\"1 cup, chopped\",Europe,22,1.1,2.2,36.6,508\n",
      "Brazil Nuts,High in Selenium,1 oz (6-8 nuts),South America,186,4.1,2.1,0.2,1419\n",
      "Cantaloupe,High in Vitamin A,\"1 cup, cubed\",Middle East/Africa,54,1.3,1.4,59.4,270\n",
      "Edamame,Good Source of Plant-Based Protein,\"1 cup, shelled\",East Asia,188,18.4,8,6.1,1510\n",
      "Apples,Rich in Quercetin,1 medium,Central Asia,95,0.5,4.4,8.4,3049\n",
      "Brown Rice,Good Source of Manganese,\"1 cup, cooked\",Asia,216,5,3.5,0,1523\n",
      "Figs,High in Calcium,1 medium,Western Asia,37,0.4,1.4,1.2,521\n",
      "Turnips,\"Low in Calories, High in Vitamin C\",\"1 cup, cubed\",Europe/West Asia,36,1.1,2.3,27.3,575\n",
      "Hemp Seeds,Good Balance of Omega-3 and Omega-6,3 tbsp,Central Asia,166,9.5,1.2,0.1,6000\n",
      "Butternut Squash,High in Vitamin A,\"1 cup, cubed\",North America,63,1.4,2.8,31,1144\n",
      "Red Grapes,Contains Resveratrol,1 cup,Mediterranean Region,104,1.1,1.4,3.2,1789\n",
      "Pineapple,Contains Bromelain,\"1 cup, chunks\",South America,82,0.9,2.3,78.9,385\n",
      "Collard Greens,High in Vitamin K,\"1 cup, chopped\",Ancient Greece,11,1.1,1.4,12.7,1067\n",
      "Sunflower Seeds,High in Vitamin E,1 oz,North America,164,5.8,2.4,0.7,6372\n",
      "Raspberries,High in Ellagic Acid,1 cup,Northern Europe/Asia,64,1.5,8,32.2,4882\n",
      "Clams,High in Vitamin B12,3 oz,Worldwide,126,22,0,22.1,7980\n",
      "Grapefruit,\"Low in Calories, High in Vitamin C\",1/2 medium,Caribbean,52,0.9,2,88.1,1548\n",
      "Kidney Beans,High in Molybdenum,\"1 cup, cooked\",Central America,225,15.3,11.3,4.1,8606\n",
      "Lemons,High in Vitamin C,1 medium,Southeast Asia,17,0.6,1.6,30.7,1225\n",
      "Arugula,Good Source of Nitrates,2 cups,Mediterranean Region,10,1.2,0.8,5.4,1904\n",
      "Onions,Contains Quercetin,\"1 cup, chopped\",Central Asia,64,1.8,2.9,11.8,913\n",
      "Zucchini,\"Low in Calories, High in Vitamin C\",\"1 cup, sliced\",Central America,19,1.4,1.1,22.2,180\n",
      "Mackerel,Rich in Omega-3 Fatty Acids,\"3 oz, cooked\",Worldwide,231,20.8,0,0,393\n",
      "Acai Berries,High in Anthocyanins,\"100g, pulp\",South America,70,1,2,0,15405\n",
      "Cucumber,\"Low in Calories, High in Water Content\",\"1 cup, sliced\",India,16,0.7,0.5,2.9,140\n",
      "Peanuts,Good Source of Biotin,1 oz,South America,161,7.3,2.4,0,1393\n",
      "Eggplant,\"Low in Calories, High in Fiber\",\"1 cup, cubed\",India,20,0.8,2.5,1.8,980\n",
      "Parsley,High in Vitamin K,\"1/4 cup, chopped\",Mediterranean Region,4,0.3,0.4,13.3,1301\n",
      "Cayenne Pepper,Contains Capsaicin,\"1 tsp, ground\",South America,6,0.3,0.6,1.6,50314\n",
      "Watermelon,High in Lycopene,\"1 cup, diced\",Africa,46,0.9,0.6,12.3,182\n",
      "Radishes,\"Low in Calories, High in Vitamin C\",\"1 cup, sliced\",Southeast Asia,19,0.8,1.9,17.2,387\n",
      "Bok Choy,High in Vitamin A and C,\"1 cup, shredded\",China,9,1.1,1,45.2,1511\n",
      "Tuna,High in Protein and Omega-3,\"3 oz, canned in water\",Worldwide,99,22,0,0,415\n",
      "Crimini Mushrooms,Good Source of Selenium,\"1 cup, sliced\",Europe/North America,19,2.9,0.7,2.1,885\n",
      "Cranberries,High in Proanthocyanidins,\"1 cup, whole\",North America,46,0.4,3.6,13.3,9584\n",
      "Tahini,Good Source of Calcium,1 tbsp,Middle East,89,2.6,1.4,0,276\n",
      "Cinnamon,May Help Lower Blood Sugar,\"1 tsp, ground\",Sri Lanka,6,0.1,1.4,0.1,131420\n",
      "Miso,Rich in Probiotics,1 tbsp,Japan,34,2.2,0.8,0.1,1125\n",
      "Mustard Greens,High in Vitamin K,\"1 cup, chopped\",India,15,1.6,1.8,39.3,3024\n",
      "Celery,\"Low in Calories, High in Vitamin K\",\"1 cup, chopped\",Mediterranean Region,16,0.7,1.6,3.1,670\n",
      "Endive,\"Low in Calories, High in Vitamin K\",\"1 cup, chopped\",Mediterranean Region,8,0.5,1.6,2.1,1052\n",
      "Kohlrabi,Good Source of Vitamin C,\"1 cup, sliced\",Northern Europe,36,2.3,4.9,83.7,944\n",
      "Natto,High in Vitamin K2,1/4 cup,Japan,100,8.4,2.8,13,6680\n",
      "Sauerkraut,Rich in Probiotics,1/2 cup,China,13,0.7,2.9,14.7,705\n",
      "Tempeh,High in Protein and Probiotics,3 oz,Indonesia,162,17,3.5,0,1800\n",
      "Swiss Chard,High in Vitamins A and K,\"1 cup, chopped\",Mediterranean Region,7,0.6,0.6,10.8,1770\n",
      "Nutritional Yeast,Good Source of B Vitamins,1 tbsp,Worldwide,20,3,1,0,790\n",
      "Pomelo,High in Vitamin C,\"1 cup, sections\",Southeast Asia,72,1.4,2.4,115.3,1548\n",
      "Radicchio,\"Low in Calories, High in Vitamin K\",\"1 cup, shredded\",Italy,9,0.6,0.4,2.6,1016\n",
      "Jicama,Good Source of Vitamin C,\"1 cup, sliced\",Mexico,46,0.9,6.4,20.2,406\n",
      "Wakame Seaweed,High in Fucoxanthin,\"1 cup, raw\",Japan,5,0.3,0.4,3,2115\n",
      "Dragon Fruit,Good Source of Antioxidants,\"1 cup, cubed\",Central/South America,136,2.9,7,9,2551\n"
     ]
    }
   ],
   "source": [
    "def read_file_line_by_line(file_path):\n",
    "    \"\"\"Generator function to read a file line by line.\"\"\"\n",
    "    with open(file_path, 'r') as file:\n",
    "        for line in file:\n",
    "            yield line.strip()  # Yield each line without the newline character\n",
    "\n",
    "# Corrected file path using raw string format\n",
    "file_path = r'C:\\Users\\SUBHASISH\\Downloads\\Top 100 Healthiest Food in the World.csv'\n",
    "\n",
    "# Example usage\n",
    "for line in read_file_line_by_line(file_path):\n",
    "    print(line)\n"
   ]
  },
  {
   "cell_type": "code",
   "execution_count": null,
   "id": "f698b6d1",
   "metadata": {},
   "outputs": [],
   "source": []
  },
  {
   "cell_type": "markdown",
   "id": "24c840e7",
   "metadata": {},
   "source": [
    "# Use a lambda function in Python to sort a list of tuples based on the second element of each tuple."
   ]
  },
  {
   "cell_type": "code",
   "execution_count": 1,
   "id": "fc971ef9",
   "metadata": {},
   "outputs": [
    {
     "name": "stdout",
     "output_type": "stream",
     "text": [
      "[(4, 2), (1, 3), (2, 5)]\n"
     ]
    }
   ],
   "source": [
    "#code\n",
    "my_list = [(1, 3), (4, 2), (2, 5)]\n",
    "\n",
    "sorted_list = sorted(my_list, key=lambda x: x[1])\n",
    "\n",
    "print(sorted_list)"
   ]
  },
  {
   "cell_type": "markdown",
   "id": "5615c224",
   "metadata": {},
   "source": [
    "#  Write a Python program that uses `map()` to convert a list of temperatures from Celsius to Fahrenheit"
   ]
  },
  {
   "cell_type": "code",
   "execution_count": 2,
   "id": "6afc7bfd",
   "metadata": {},
   "outputs": [
    {
     "name": "stdout",
     "output_type": "stream",
     "text": [
      "[77.0, 86.0, 95.0]\n"
     ]
    }
   ],
   "source": [
    "#code\n",
    "def celsius_to_fahrenheit(celsius):\n",
    "  return (celsius * 9/5) + 32\n",
    "\n",
    "temperatures_celsius = [25, 30, 35]\n",
    "\n",
    "temperatures_fahrenheit = list(map(celsius_to_fahrenheit, temperatures_celsius))\n",
    "\n",
    "print(temperatures_fahrenheit)"
   ]
  },
  {
   "cell_type": "markdown",
   "id": "4a9228b7",
   "metadata": {},
   "source": [
    "# Create a Python program that uses `filter()` to remove all the vowels from a given string."
   ]
  },
  {
   "cell_type": "code",
   "execution_count": 3,
   "id": "44dc3c6d",
   "metadata": {},
   "outputs": [
    {
     "name": "stdout",
     "output_type": "stream",
     "text": [
      "['H', 'l', 'l', ',', ' ', 'W', 'r', 'l', 'd', '!']\n"
     ]
    }
   ],
   "source": [
    "#code\n",
    "def remove_vowels(string):\n",
    "  vowels = \"aeiouAEIOU\"\n",
    "  return ''.join(char for char in string if char not in vowels)\n",
    "\n",
    "string = \"Hello, World!\"\n",
    "\n",
    "filtered_string = filter(remove_vowels, string)\n",
    "\n",
    "print(list(filtered_string))"
   ]
  },
  {
   "cell_type": "markdown",
   "id": "d44874cc",
   "metadata": {},
   "source": [
    "# Write a Python program, which returns a list with 2-tuples. Each tuple consists of the order number and theproduct of the price per item and the quantity. The product should be increased by 10,- € if the value of theorder is smaller than 100,00 €.Write a Python program using lambda and map."
   ]
  },
  {
   "cell_type": "code",
   "execution_count": 4,
   "id": "e8c53a68",
   "metadata": {},
   "outputs": [
    {
     "name": "stdout",
     "output_type": "stream",
     "text": [
      "[(34587, 163.8), (98762, 284.0), (77226, 108.85000000000001), (88112, 84.97)]\n"
     ]
    }
   ],
   "source": [
    "#code\n",
    "# Given data\n",
    "book_orders = [\n",
    "    [34587, \"Learning Python, Mark Lutz\", 4, 40.95],\n",
    "    [98762, \"Programming Python, Mark Lutz\", 5, 56.80],\n",
    "    [77226, \"Head First Python, Paul Barry\", 3, 32.95],\n",
    "    [88112, \"Einführung in Python3, Bernd Klein\", 3, 24.99]\n",
    "]\n",
    "\n",
    "# Function to calculate total price and adjust if less than 100 €\n",
    "calculate_total = lambda order: (order[0], order[2] * order[3] if order[2] * order[3] >= 100 else order[2] * order[3] + 10)\n",
    "\n",
    "# Use map to apply the function to each order in the list\n",
    "updated_orders = list(map(calculate_total, book_orders))\n",
    "\n",
    "# Print the result\n",
    "print(updated_orders)\n"
   ]
  },
  {
   "cell_type": "code",
   "execution_count": null,
   "id": "01444999",
   "metadata": {},
   "outputs": [],
   "source": []
  }
 ],
 "metadata": {
  "kernelspec": {
   "display_name": "Python 3 (ipykernel)",
   "language": "python",
   "name": "python3"
  },
  "language_info": {
   "codemirror_mode": {
    "name": "ipython",
    "version": 3
   },
   "file_extension": ".py",
   "mimetype": "text/x-python",
   "name": "python",
   "nbconvert_exporter": "python",
   "pygments_lexer": "ipython3",
   "version": "3.9.12"
  }
 },
 "nbformat": 4,
 "nbformat_minor": 5
}
