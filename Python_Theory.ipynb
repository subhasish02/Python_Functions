{
 "cells": [
  {
   "cell_type": "markdown",
   "id": "741f9f50",
   "metadata": {},
   "source": [
    "# Functions\n"
   ]
  },
  {
   "cell_type": "markdown",
   "id": "3580a0c1",
   "metadata": {},
   "source": [
    "# Theory questions:"
   ]
  },
  {
   "cell_type": "markdown",
   "id": "dc282fa3",
   "metadata": {},
   "source": [
    "# What is the difference between a function and a method in python."
   ]
  },
  {
   "cell_type": "markdown",
   "id": "65b255ca",
   "metadata": {},
   "source": [
    "In Python, the terms \"function\" and \"method\" are often used interchangeably, but there is a subtle distinction between them:\n",
    "\n",
    "Function:\n",
    "\n",
    "A standalone piece of code that performs a specific task.\n",
    "Can be defined independently of any class or object.\n",
    "Takes input parameters and returns an output value (if applicable).\n",
    "Can be called from anywhere in your code.\n",
    "Example:"
   ]
  },
  {
   "cell_type": "code",
   "execution_count": 1,
   "id": "36f7b9a6",
   "metadata": {},
   "outputs": [
    {
     "name": "stdout",
     "output_type": "stream",
     "text": [
      "Hello, Alice!\n"
     ]
    }
   ],
   "source": [
    "#example:\n",
    "def greet(name):\n",
    "    print(\"Hello, \" + name + \"!\")\n",
    "\n",
    "greet(\"Alice\")"
   ]
  },
  {
   "cell_type": "markdown",
   "id": "8bf542a4",
   "metadata": {},
   "source": [
    "Method:\n",
    "\n",
    "A function that is associated with a particular class or object.\n",
    "Can only be called on instances of that class or object.\n",
    "Often used to access or modify the internal state of the object.\n",
    "Can have access to the object's attributes and other methods.\n",
    "Example:"
   ]
  },
  {
   "cell_type": "code",
   "execution_count": 2,
   "id": "3da39722",
   "metadata": {},
   "outputs": [
    {
     "name": "stdout",
     "output_type": "stream",
     "text": [
      "Hello, my name is Bob\n"
     ]
    }
   ],
   "source": [
    "#Example:\n",
    "class Person:\n",
    "    def __init__(self, name):\n",
    "        self.name = name\n",
    "\n",
    "    def greet(self):\n",
    "        print(\"Hello, my name is \" + self.name)\n",
    "\n",
    "person1 = Person(\"Bob\")\n",
    "person1.greet()"
   ]
  },
  {
   "cell_type": "markdown",
   "id": "d307d4fb",
   "metadata": {},
   "source": [
    "Key differences:\n",
    "\n",
    "Scope: Functions have global scope, while methods have local scope within their class.\n",
    "Association: Methods are associated with a specific class or object, while functions are not.\n",
    "Access: Methods can access the object's attributes and other methods, while functions cannot.\n",
    "In summary:\n",
    "\n",
    "Functions are general-purpose code blocks that can be used anywhere.\n",
    "Methods are specialized functions that belong to a particular class or object and provide functionality related to that object."
   ]
  },
  {
   "cell_type": "markdown",
   "id": "6c4cd752",
   "metadata": {},
   "source": [
    "# Explain the concept of function arguments and parameters in python."
   ]
  },
  {
   "cell_type": "markdown",
   "id": "863d58cd",
   "metadata": {},
   "source": [
    " Function Arguments and Parameters in Python\n",
    "\n",
    "In Python, function arguments and parameters are closely related concepts used to pass data into functions. While they might seem interchangeable, there are nuances in their usage:\n",
    "\n",
    "Parameters:\n",
    "\n",
    "Declared: These are the variables listed within the function definition that specify the data the function expects to receive.\n",
    "Placeholders: They act as placeholders for the actual values that will be passed to the function.\n",
    "Example:"
   ]
  },
  {
   "cell_type": "code",
   "execution_count": 4,
   "id": "1524fea3",
   "metadata": {},
   "outputs": [],
   "source": [
    "def greet(name):\n",
    "    print(\"Hello, \" + name + \"!\")"
   ]
  },
  {
   "cell_type": "markdown",
   "id": "6463b70f",
   "metadata": {},
   "source": [
    "In this example, name is a parameter."
   ]
  },
  {
   "cell_type": "markdown",
   "id": "dfa297de",
   "metadata": {},
   "source": [
    "Arguments:\n",
    "\n",
    "Provided: These are the actual values that are passed to the function when it is called.\n",
    "Matched: They are matched with the corresponding parameters based on their order.\n",
    "Example:"
   ]
  },
  {
   "cell_type": "code",
   "execution_count": 6,
   "id": "4081eeee",
   "metadata": {},
   "outputs": [
    {
     "name": "stdout",
     "output_type": "stream",
     "text": [
      "Hello, Alice!\n"
     ]
    }
   ],
   "source": [
    "greet(\"Alice\")"
   ]
  },
  {
   "cell_type": "markdown",
   "id": "6464f5a1",
   "metadata": {},
   "source": [
    "Here, \"Alice\" is an argument."
   ]
  },
  {
   "cell_type": "markdown",
   "id": "9277414b",
   "metadata": {},
   "source": [
    "Key Points:\n",
    "\n",
    "Number of Arguments: The number of arguments passed to a function must match the number of parameters declared in its definition.\n",
    "\n",
    "Default Arguments: You can assign default values to parameters, allowing functions to be called with fewer arguments.\n",
    "\n",
    "Keyword Arguments: Arguments can be passed using keyword arguments, where the parameter name is explicitly specified, allowing the order to be ignored.\n",
    "\n",
    "Arbitrary Arguments: Functions can accept an arbitrary number of arguments using the *args syntax.\n",
    "\n",
    "Arbitrary Keyword Arguments: Functions can accept an arbitrary number of keyword arguments using the **kwargs syntax."
   ]
  },
  {
   "cell_type": "code",
   "execution_count": 8,
   "id": "c4da51d1",
   "metadata": {},
   "outputs": [
    {
     "name": "stdout",
     "output_type": "stream",
     "text": [
      "Hello, Bob!\n",
      "Hi, Eve!\n",
      "1\n",
      "two\n",
      "3.0\n",
      "name Alice\n",
      "age 30\n"
     ]
    }
   ],
   "source": [
    "#Example:\n",
    "def add(x, y):\n",
    "    return x + y\n",
    "\n",
    "result = add(3, 5)  # 3 and 5 are arguments\n",
    "\n",
    "def greet(name, greeting=\"Hello\"):\n",
    "    print(greeting + \", \" + name + \"!\")\n",
    "\n",
    "greet(\"Bob\")  # Uses the default greeting\n",
    "greet(\"Eve\", \"Hi\")  # Overrides the default greeting\n",
    "\n",
    "def my_func(*args):\n",
    "    for arg in args:\n",
    "        print(arg)\n",
    "\n",
    "my_func(1, \"two\", 3.0)\n",
    "\n",
    "def my_other_func(**kwargs):\n",
    "    for key, value in kwargs.items():\n",
    "        print(key, value)\n",
    "\n",
    "my_other_func(name=\"Alice\", age=30)"
   ]
  },
  {
   "cell_type": "markdown",
   "id": "c5cc9452",
   "metadata": {},
   "source": [
    "# What are the different ways to define and call a function in python."
   ]
  },
  {
   "cell_type": "markdown",
   "id": "04d8de7a",
   "metadata": {},
   "source": [
    "There are several ways to define and call functions in Python:\n",
    "\n",
    "Defining Functions:\n",
    "\n",
    "Using the def keyword:\n",
    "\n",
    "This is the most common way to define a function.\n",
    "The function name, parentheses for parameters, and a colon are used.\n",
    "The function body is indented within the block."
   ]
  },
  {
   "cell_type": "code",
   "execution_count": 9,
   "id": "5607025a",
   "metadata": {},
   "outputs": [],
   "source": [
    "def greet(name):\n",
    "    print(\"Hello, \" + name + \"!\")"
   ]
  },
  {
   "cell_type": "markdown",
   "id": "61994e3e",
   "metadata": {},
   "source": [
    "Using lambda expressions:\n",
    "\n",
    "These are anonymous functions defined in a single line.\n",
    "They are often used for simple functions or as arguments to other functions."
   ]
  },
  {
   "cell_type": "code",
   "execution_count": 10,
   "id": "85b3d9e7",
   "metadata": {},
   "outputs": [],
   "source": [
    "add = lambda x, y: x + y"
   ]
  },
  {
   "cell_type": "markdown",
   "id": "0421eb7c",
   "metadata": {},
   "source": [
    "Using nested functions:\n",
    "\n",
    "Functions can be defined within other functions.\n",
    "They have access to the outer function's variables."
   ]
  },
  {
   "cell_type": "code",
   "execution_count": 11,
   "id": "2e81690a",
   "metadata": {},
   "outputs": [],
   "source": [
    "def outer_function():\n",
    "    def inner_function():\n",
    "        print(\"Inside the inner function\")\n",
    "    inner_function()"
   ]
  },
  {
   "cell_type": "markdown",
   "id": "fdfbfbfe",
   "metadata": {},
   "source": [
    "Calling Functions:\n",
    "\n",
    "Directly by name:\n",
    "\n",
    "The function name is followed by parentheses, which may contain arguments."
   ]
  },
  {
   "cell_type": "code",
   "execution_count": 12,
   "id": "74c831f0",
   "metadata": {},
   "outputs": [
    {
     "name": "stdout",
     "output_type": "stream",
     "text": [
      "Hello, Alice!\n"
     ]
    }
   ],
   "source": [
    "greet(\"Alice\")"
   ]
  },
  {
   "cell_type": "markdown",
   "id": "b22d3416",
   "metadata": {},
   "source": [
    "Using variables:\n",
    "\n",
    "A function can be assigned to a variable and then called using the variable name."
   ]
  },
  {
   "cell_type": "code",
   "execution_count": 13,
   "id": "a7d8e043",
   "metadata": {},
   "outputs": [
    {
     "name": "stdout",
     "output_type": "stream",
     "text": [
      "Hello, Bob!\n"
     ]
    }
   ],
   "source": [
    "my_function = greet\n",
    "my_function(\"Bob\")"
   ]
  },
  {
   "cell_type": "markdown",
   "id": "54a042e9",
   "metadata": {},
   "source": [
    "As arguments to other functions:\n",
    "\n",
    "Functions can be passed as arguments to other functions."
   ]
  },
  {
   "cell_type": "code",
   "execution_count": 16,
   "id": "169f84db",
   "metadata": {},
   "outputs": [],
   "source": [
    "def apply_function(func, x,y):\n",
    "    return func(x,y)\n",
    "\n",
    "result = apply_function(add, 5,10)"
   ]
  },
  {
   "cell_type": "markdown",
   "id": "c81f28cd",
   "metadata": {},
   "source": [
    "Using the *args and **kwargs syntax:\n",
    "\n",
    "These allow functions to accept an arbitrary number of arguments or keyword arguments."
   ]
  },
  {
   "cell_type": "code",
   "execution_count": 17,
   "id": "1ec3b038",
   "metadata": {},
   "outputs": [],
   "source": [
    "def my_function(*args, **kwargs):\n",
    "    print(args)\n",
    "    print(kwargs)"
   ]
  },
  {
   "cell_type": "markdown",
   "id": "0b6ea48b",
   "metadata": {},
   "source": [
    "Additional Notes:\n",
    "\n",
    "Function documentation: Use docstrings to document the function's purpose, parameters, and return value.\n",
    "\n",
    "Recursion: Functions can call themselves, which is known as recursion.\n",
    "\n",
    "Generators: Functions that use the yield keyword can return multiple values iteratively.\n",
    "\n",
    "Decorators: These are functions that modify other functions."
   ]
  },
  {
   "cell_type": "markdown",
   "id": "a7d989ca",
   "metadata": {},
   "source": [
    "# What is the purpose of the `return` statement in a python function."
   ]
  },
  {
   "cell_type": "markdown",
   "id": "c178d41b",
   "metadata": {},
   "source": [
    "The return statement in Python is used to:\n",
    "\n",
    "Terminate the function's execution: When the return statement is encountered, the function stops running immediately, regardless of any code that follows it.\n",
    "\n",
    "Return a value: The return statement can optionally be followed by an expression. This expression's value is then returned to the caller of the function. This value can be used for further calculations or assignments within the calling code."
   ]
  },
  {
   "cell_type": "code",
   "execution_count": 18,
   "id": "c0481b11",
   "metadata": {},
   "outputs": [
    {
     "name": "stdout",
     "output_type": "stream",
     "text": [
      "8\n"
     ]
    }
   ],
   "source": [
    "def add(x, y):\n",
    "    result = x + y\n",
    "    return result\n",
    "\n",
    "sum = add(3, 5)\n",
    "print(sum)  # Output: 8"
   ]
  },
  {
   "cell_type": "markdown",
   "id": "6adae0e9",
   "metadata": {},
   "source": [
    "In this example:\n",
    "\n",
    "The add function takes two arguments, x and y.\n",
    "It calculates their sum and stores it in the result variable.\n",
    "The return result statement terminates the function and returns the value of result to the caller.\n",
    "The calling code stores the returned value in the sum variable and prints it.\n",
    "Key points:\n",
    "\n",
    "A function can have multiple return statements, but only the first one executed will be effective.\n",
    "If a function doesn't have a return statement, it implicitly returns None.\n",
    "The returned value can be of any data type, including numbers, strings, lists, dictionaries, or even other functions."
   ]
  },
  {
   "cell_type": "markdown",
   "id": "59b1032a",
   "metadata": {},
   "source": [
    "# What are the iterators in python and how do they differ from iterables."
   ]
  },
  {
   "cell_type": "markdown",
   "id": "fab1ebd3",
   "metadata": {},
   "source": [
    "Iterables:\n",
    "\n",
    "Collections of elements: Iterables are objects that can be iterated over, meaning their elements can be accessed one by one.\n",
    "Common examples: Lists, tuples, strings, sets, dictionaries, and custom-defined classes that implement the __iter__ method.\n",
    "Iteration mechanism: When an iterable is used in a loop (e.g., for loop), Python automatically calls its __iter__ method to obtain an iterator.\n",
    "\n",
    "Iterators:\n",
    "\n",
    "Objects that produce values: Iterators are objects that represent a sequence of values. They provide a way to access elements one at a time.\n",
    "State-keeping: Iterators keep track of their current position within the sequence.\n",
    "__next__ method: Iterators implement the __next__ method, which returns the next value in the sequence. If there are no more elements, it raises a StopIteration exception.\n",
    "Creation from iterables: Iterables can be converted into iterators using the built-in iter() function.\n",
    "\n",
    "Key differences:\n",
    "\n",
    "Nature: Iterables are collections, while iterators are objects that produce values.\n",
    "State: Iterators maintain a state (current position), while iterables don't necessarily.\n",
    "Methods: Iterables have the __iter__ method to return an iterator, while iterators have the __next__ method to produce values.\n",
    "Usage: Iterables are used to define sequences, while iterators are used to access elements of those sequences.\n",
    "\n",
    "Example:"
   ]
  },
  {
   "cell_type": "code",
   "execution_count": 19,
   "id": "e9ad7920",
   "metadata": {},
   "outputs": [
    {
     "name": "stdout",
     "output_type": "stream",
     "text": [
      "1\n",
      "2\n",
      "3\n"
     ]
    }
   ],
   "source": [
    "my_list = [1, 2, 3]  # Iterable\n",
    "\n",
    "# Obtain an iterator from the iterable\n",
    "my_iterator = iter(my_list)\n",
    "\n",
    "# Iterate over the iterator\n",
    "while True:\n",
    "    try:\n",
    "        element = next(my_iterator)\n",
    "        print(element)\n",
    "    except StopIteration:\n",
    "        break"
   ]
  },
  {
   "cell_type": "markdown",
   "id": "74d2d02c",
   "metadata": {},
   "source": [
    "In this example:\n",
    "\n",
    "my_list is an iterable (a list).\n",
    "iter(my_list) creates an iterator from the list.\n",
    "The while loop uses the next() function to access elements one by one from the iterator.\n",
    "When there are no more elements, a StopIteration exception is raised, and the loop terminates.\n",
    "\n",
    "In summary:\n",
    "\n",
    "Iterables are the collections you want to iterate over.\n",
    "Iterators are the objects that actually perform the iteration by producing values one at a time.\n",
    "The iter() function is used to obtain an iterator from an iterable.\n",
    "The next() function is used to get the next value from an iterator.\n",
    "\n",
    "\n",
    "\n",
    "\n",
    "\n",
    "\n"
   ]
  },
  {
   "cell_type": "markdown",
   "id": "6758f385",
   "metadata": {},
   "source": [
    "# Explain the concept of generators in python and how they are defined."
   ]
  },
  {
   "cell_type": "markdown",
   "id": "6d3bbab1",
   "metadata": {},
   "source": [
    "Generators\n",
    "\n",
    "Special functions: Generators are a type of function in Python that return an iterator.\n",
    "\n",
    "Yield keyword: Instead of using the return keyword, generators use the yield keyword to return values one at a time.\n",
    "\n",
    "State preservation: When a generator function is called, it creates an iterator object. Each time the next() method is called on this iterator, the generator resumes execution from where it left off, preserving its state.\n",
    "\n",
    "Lazy evaluation: Generators are lazily evaluated, meaning they don't calculate all the values at once. They produce values only when requested.\n",
    "\n",
    "Efficient memory usage: This lazy evaluation can be beneficial for working with large datasets or infinite sequences, as it avoids unnecessary memory consumption.\n",
    "\n",
    "Defining Generators\n",
    "\n",
    "yield keyword: The yield keyword is used within a generator function to return a value and pause execution. When the generator is resumed, execution continues from the point where it paused.\n",
    "\n",
    "Multiple yield statements: A generator can have multiple yield statements, allowing it to produce multiple values.\n",
    "Example:"
   ]
  },
  {
   "cell_type": "code",
   "execution_count": 20,
   "id": "9b0e5030",
   "metadata": {},
   "outputs": [
    {
     "name": "stdout",
     "output_type": "stream",
     "text": [
      "0\n",
      "1\n",
      "2\n",
      "3\n",
      "4\n"
     ]
    }
   ],
   "source": [
    "def my_generator():\n",
    "    for i in range(5):\n",
    "        yield i\n",
    "\n",
    "# Create a generator object\n",
    "generator_obj = my_generator()\n",
    "\n",
    "# Iterate over the generator\n",
    "for num in generator_obj:\n",
    "    print(num)"
   ]
  },
  {
   "cell_type": "markdown",
   "id": "3c39771c",
   "metadata": {},
   "source": [
    "In this example:\n",
    "\n",
    "The my_generator function defines a generator.\n",
    "The yield keyword is used to return each value in the range of 0 to 4.\n",
    "When the generator is iterated over using a for loop, the next() method is called on the generator object behind the scenes.\n",
    "Each time next() is called, the generator resumes execution from where it left off and yields the next value.\n",
    "\n",
    "Key points:\n",
    "\n",
    "Generators are a powerful tool for creating iterators that can produce values on-demand.\n",
    "They are often used for working with large datasets or infinite sequences, as they can be more memory-efficient than traditional functions.\n",
    "The yield keyword is essential for defining generators."
   ]
  },
  {
   "cell_type": "markdown",
   "id": "a659acf5",
   "metadata": {},
   "source": [
    "# What are the advantages of using generators over regular functions."
   ]
  },
  {
   "cell_type": "markdown",
   "id": "57bc4402",
   "metadata": {},
   "source": [
    "Advantages of using generators over regular functions:\n",
    "\n",
    "Memory Efficiency: Generators produce values one at a time, avoiding the need to store all values in memory at once. This is especially beneficial when dealing with large datasets or infinite sequences.\n",
    "\n",
    "Lazy Evaluation: Generators only calculate values when requested, leading to potential performance improvements, especially when not all values are needed.\n",
    "\n",
    "Simpler Code: Generators can often lead to cleaner and more concise code, especially for tasks that involve producing a sequence of values.\n",
    "\n",
    "Infinite Sequences: Generators can be used to create infinite sequences, which are useful for tasks like generating random numbers or creating infinite streams of data.\n",
    "\n",
    "Custom Iterators: Generators provide a flexible way to create custom iterators, allowing you to define the behavior of how elements are produced and accessed.\n",
    "\n",
    "In summary:\n",
    "\n",
    "Generators offer several advantages over regular functions, including improved memory efficiency, lazy evaluation, simpler code, the ability to create infinite sequences, and the flexibility to define custom iterators. These advantages make generators a valuable tool for many programming tasks in Python."
   ]
  },
  {
   "cell_type": "markdown",
   "id": "9ebf751a",
   "metadata": {},
   "source": [
    "# What is a lambda function in python and when is it typically used ."
   ]
  },
  {
   "cell_type": "markdown",
   "id": "28215416",
   "metadata": {},
   "source": [
    "Lambda Functions in Python\n",
    "\n",
    "Lambda functions, also known as anonymous functions, are a concise way to define functions without giving them a specific name. They are often used for short, simple functions that are only needed once."
   ]
  },
  {
   "cell_type": "code",
   "execution_count": 21,
   "id": "e8981e80",
   "metadata": {},
   "outputs": [
    {
     "data": {
      "text/plain": [
       "<function __main__.<lambda>(arguments)>"
      ]
     },
     "execution_count": 21,
     "metadata": {},
     "output_type": "execute_result"
    }
   ],
   "source": [
    "lambda arguments: expression"
   ]
  },
  {
   "cell_type": "markdown",
   "id": "04f6efd1",
   "metadata": {},
   "source": [
    "arguments: A comma-separated list of arguments.\n",
    "\n",
    "expression: The expression to be evaluated and returned."
   ]
  },
  {
   "cell_type": "code",
   "execution_count": 23,
   "id": "2d625b37",
   "metadata": {},
   "outputs": [
    {
     "name": "stdout",
     "output_type": "stream",
     "text": [
      "8\n"
     ]
    }
   ],
   "source": [
    "add = lambda x, y: x + y\n",
    "result = add(3, 5)\n",
    "print(result)  # Output: 8"
   ]
  },
  {
   "cell_type": "markdown",
   "id": "f434c9e3",
   "metadata": {},
   "source": [
    "In this example:\n",
    "\n",
    "lambda x, y: x + y defines a lambda function that takes two arguments, x and y, and returns their sum.   \n",
    "The function is assigned to the variable add.\n",
    "The function is called with arguments 3 and 5, and the result is printed.\n",
    "\n",
    "Typical Use Cases:\n",
    "\n",
    "As arguments to functions: Lambda functions are often used as arguments to other functions that accept functions as input, such as map, filter, and reduce.\n",
    "\n",
    "For simple calculations: They are useful for short, one-line calculations.\n",
    "\n",
    "In list comprehensions: Lambda functions can be used within list comprehensions to create new lists based on existing ones."
   ]
  },
  {
   "cell_type": "markdown",
   "id": "8e0656c4",
   "metadata": {},
   "source": [
    "Example with map:"
   ]
  },
  {
   "cell_type": "code",
   "execution_count": 24,
   "id": "a45e29e1",
   "metadata": {},
   "outputs": [
    {
     "name": "stdout",
     "output_type": "stream",
     "text": [
      "[1, 4, 9, 16, 25]\n"
     ]
    }
   ],
   "source": [
    "numbers = [1, 2, 3, 4, 5]\n",
    "squared_numbers = list(map(lambda x: x**2, numbers))\n",
    "print(squared_numbers)  # Output: [1, 4, 9, 16, 25]"
   ]
  },
  {
   "cell_type": "markdown",
   "id": "38c64d9c",
   "metadata": {},
   "source": [
    "Example with filter:"
   ]
  },
  {
   "cell_type": "code",
   "execution_count": 25,
   "id": "587dbc94",
   "metadata": {},
   "outputs": [
    {
     "name": "stdout",
     "output_type": "stream",
     "text": [
      "[2, 4]\n"
     ]
    }
   ],
   "source": [
    "numbers = [1, 2, 3, 4, 5]\n",
    "even_numbers = list(filter(lambda x: x % 2 == 0, numbers))\n",
    "print(even_numbers)  # Output: [2, 4]"
   ]
  },
  {
   "cell_type": "markdown",
   "id": "feb0108b",
   "metadata": {},
   "source": [
    "# Explain the purpose and usage of the `map()` function in python."
   ]
  },
  {
   "cell_type": "markdown",
   "id": "5bd4dfe1",
   "metadata": {},
   "source": [
    "The map() function in Python is a built-in function that applies a given function to each item of an iterable (like a list, tuple, or string) and returns an iterator containing the results.\n",
    "\n",
    "Purpose:\n",
    "\n",
    "Applying a function to each element: It's a convenient way to apply the same operation to multiple elements of an iterable.\n",
    "\n",
    "Creating new sequences: It can be used to create new sequences based on existing ones by transforming each element."
   ]
  },
  {
   "cell_type": "markdown",
   "id": "53758af2",
   "metadata": {},
   "source": [
    "Usage:"
   ]
  },
  {
   "cell_type": "raw",
   "id": "080cf246",
   "metadata": {},
   "source": [
    "map(function, iterable)"
   ]
  },
  {
   "cell_type": "code",
   "execution_count": 27,
   "id": "f95e4631",
   "metadata": {},
   "outputs": [
    {
     "name": "stdout",
     "output_type": "stream",
     "text": [
      "[1, 4, 9, 16, 25]\n"
     ]
    }
   ],
   "source": [
    "#Example:\n",
    "numbers = [1, 2, 3, 4, 5]\n",
    "\n",
    "# Square each number using map()\n",
    "squared_numbers = map(lambda x: x**2, numbers)\n",
    "\n",
    "# Convert the iterator to a list\n",
    "squared_numbers_list = list(squared_numbers)\n",
    "\n",
    "print(squared_numbers_list)  # Output: [1, 4, 9, 16, 25]"
   ]
  },
  {
   "cell_type": "markdown",
   "id": "9484aa75",
   "metadata": {},
   "source": [
    "In this example:\n",
    "\n",
    "The map() function takes a lambda function lambda x: x**2 and the list numbers as input. \n",
    "\n",
    "The lambda function squares each number.\n",
    "\n",
    "The map() function returns an iterator containing the squared numbers.\n",
    "\n",
    "The list() function is used to convert the iterator into a list for printing.\n",
    "\n",
    "Key points:\n",
    "\n",
    "The map() function returns an iterator, not a list. You often need to convert it to a list or other data structure to work with the results.\n",
    "The function passed to map() can be any callable object, including named functions, lambda functions, or methods.\n",
    "You can use multiple iterables as arguments to map() to apply the function to corresponding elements from each iterable.\n",
    "\n",
    "Additional notes:\n",
    "\n",
    "The map() function is often used in combination with other functional programming tools like filter() and reduce().\n",
    "In Python 3, map() returns an iterator, which can be more memory-efficient than creating a list directly."
   ]
  },
  {
   "cell_type": "markdown",
   "id": "dcced923",
   "metadata": {},
   "source": [
    "# What is the difference between `map()`,`reduce()`,and`filter()`functions in python."
   ]
  },
  {
   "cell_type": "markdown",
   "id": "4d22a6b1",
   "metadata": {},
   "source": [
    "map()\n",
    "\n",
    "Purpose: Applies a given function to each element of an iterable and returns an iterator containing the results.\n",
    "\n",
    "Usage: map(function, iterable)\n",
    "\n",
    "Example:"
   ]
  },
  {
   "cell_type": "code",
   "execution_count": 28,
   "id": "10a0d132",
   "metadata": {},
   "outputs": [
    {
     "name": "stdout",
     "output_type": "stream",
     "text": [
      "[1, 4, 9, 16, 25]\n"
     ]
    }
   ],
   "source": [
    "numbers = [1, 2, 3, 4, 5]\n",
    "squared_numbers = map(lambda x: x**2, numbers)\n",
    "print(list(squared_numbers))  # Output: [1, 4, 9, 16, 25]"
   ]
  },
  {
   "cell_type": "markdown",
   "id": "5f50baef",
   "metadata": {},
   "source": [
    "reduce()\n",
    "\n",
    "Purpose: Applies a given function to the elements of an iterable, accumulating a single result. The function takes two arguments: the accumulated value and the current element.\n",
    "\n",
    "Usage: reduce(function, iterable, initial_value=None)\n",
    "\n",
    "Example:"
   ]
  },
  {
   "cell_type": "code",
   "execution_count": 29,
   "id": "4c790b2d",
   "metadata": {},
   "outputs": [
    {
     "name": "stdout",
     "output_type": "stream",
     "text": [
      "120\n"
     ]
    }
   ],
   "source": [
    "from functools import reduce\n",
    "\n",
    "numbers = [1, 2, 3, 4, 5]\n",
    "product = reduce(lambda x, y: x * y, numbers)\n",
    "print(product)  # Output: 120"
   ]
  },
  {
   "cell_type": "markdown",
   "id": "5a74857d",
   "metadata": {},
   "source": [
    "filter()\n",
    "\n",
    "Purpose: Filters elements from an iterable based on a given function. The function should return True or False for each element.\n",
    "\n",
    "Usage: filter(function, iterable)\n",
    "    \n",
    "Example:"
   ]
  },
  {
   "cell_type": "code",
   "execution_count": 31,
   "id": "95e89caf",
   "metadata": {},
   "outputs": [
    {
     "name": "stdout",
     "output_type": "stream",
     "text": [
      "[2, 4]\n"
     ]
    }
   ],
   "source": [
    "numbers = [1, 2, 3, 4, 5]\n",
    "even_numbers = filter(lambda x: x % 2 == 0, numbers)\n",
    "print(list(even_numbers))  # Output: [2, 4]"
   ]
  },
  {
   "cell_type": "markdown",
   "id": "8327b23a",
   "metadata": {},
   "source": [
    "Key differences:\n",
    "\n",
    "Output: map() and filter() return iterators, while reduce() returns a single value.\n",
    "\n",
    "Function arguments: map() and filter() take a function that operates on a single element, while reduce() takes a function that operates on two elements.\n",
    "\n",
    "Operation: map() applies a function to each element, reduce() accumulates a result, and filter() selects elements based on a condition.\n",
    "\n",
    "In summary:\n",
    "\n",
    "map() transforms each element of an iterable.\n",
    "reduce() combines elements of an iterable into a single value.\n",
    "filter() selects elements from an iterable based on a condition."
   ]
  },
  {
   "cell_type": "markdown",
   "id": "7c91d370",
   "metadata": {},
   "source": [
    "# Using pen & Paper write the internal mechanism for sum operation using  reduce function on this given\n",
    "list:[47,11,42,13]; "
   ]
  },
  {
   "attachments": {
    "WhatsApp%20Image%202024-10-19%20at%2010.33.38%20PM.jpeg": {
     "image/jpeg": "[encoded data removed]"
    }
   },
   "cell_type": "markdown",
   "id": "99d93785",
   "metadata": {},
   "source": [
    "![WhatsApp%20Image%202024-10-19%20at%2010.33.38%20PM.jpeg](attachment:WhatsApp%20Image%202024-10-19%20at%2010.33.38%20PM.jpeg)"
   ]
  },
  {
   "cell_type": "code",
   "execution_count": null,
   "id": "ef9e0fe8",
   "metadata": {},
   "outputs": [],
   "source": []
  }
 ],
 "metadata": {
  "kernelspec": {
   "display_name": "Python 3 (ipykernel)",
   "language": "python",
   "name": "python3"
  },
  "language_info": {
   "codemirror_mode": {
    "name": "ipython",
    "version": 3
   },
   "file_extension": ".py",
   "mimetype": "text/x-python",
   "name": "python",
   "nbconvert_exporter": "python",
   "pygments_lexer": "ipython3",
   "version": "3.9.12"
  }
 },
 "nbformat": 4,
 "nbformat_minor": 5
}
